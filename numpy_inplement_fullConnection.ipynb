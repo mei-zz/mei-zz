{
 "cells": [
  {
   "cell_type": "code",
   "execution_count": 11,
   "id": "cd221281",
   "metadata": {},
   "outputs": [],
   "source": [
    "import numpy as np\n",
    "import math"
   ]
  },
  {
   "cell_type": "code",
   "execution_count": 39,
   "id": "99aa4151",
   "metadata": {},
   "outputs": [],
   "source": [
    "def tanh(x):\n",
    "    return np.tanh(x)\n",
    "def softmax(x):  #softmax函数传入的是一个列表\n",
    "    exp=np.exp(x-x.max())  # 这儿可能会有指数爆炸风险，减去一个最大值来避免此问题\n",
    "#     print(exp)\n",
    "    return exp/exp.sum()"
   ]
  },
  {
   "cell_type": "code",
   "execution_count": 61,
   "id": "f6a2721e",
   "metadata": {},
   "outputs": [],
   "source": [
    "dimensions=[28*28,10] #设置输入输出维度\n",
    "activations=[tanh,softmax] #设置两层的不同激活函数\n",
    "distrubutions=[\n",
    "    {'b':[0,0]},\n",
    "    {'b':[0,0],'w':[-math.sqrt(6/dimensions[0]+dimensions[1]),math.sqrt(6/dimensions[0]+dimensions[1])]}\n",
    "]   # distrubutions定义所需参数的范围\n",
    "    # 进行初始化 两层网络，一共有三个参数 w的取值是在这个规定范围内最好【经验】"
   ]
  },
  {
   "cell_type": "code",
   "execution_count": 39,
   "id": "e729d096",
   "metadata": {},
   "outputs": [
    {
     "name": "stdout",
     "output_type": "stream",
     "text": [
      "[ 2.71828183  7.3890561  20.08553692 54.59815003]\n"
     ]
    },
    {
     "data": {
      "text/plain": [
       "array([0.0320586 , 0.08714432, 0.23688282, 0.64391426])"
      ]
     },
     "execution_count": 39,
     "metadata": {},
     "output_type": "execute_result"
    }
   ],
   "source": [
    "# tanh(0.1)\n",
    "softmax([1,2,3,4])"
   ]
  },
  {
   "cell_type": "code",
   "execution_count": 63,
   "id": "4fa02cfa",
   "metadata": {},
   "outputs": [],
   "source": [
    "def init_paramter_b(layer):\n",
    "    dist=distrubutions[layer]['b']\n",
    "    return np.random.rand(dimensions[layer])*(dist[1]-dist[0])+dist[0]  \n",
    "    # 通过random产生随机数，且使其满足distrubution设置的范围\n",
    "def init_paramter_w(layer):\n",
    "    dist=distrubutions[layer]['w']\n",
    "    return np.random.rand(dimensions[layer-1],dimensions[layer])*(dist[1]-dist[0])+dist[0]\n",
    "def init_paramters():  # 初始化参数\n",
    "    parameter=[]\n",
    "    for i in range(len(distrubutions)):  # i表示所在的层数\n",
    "        layer_parameter={}\n",
    "        for j in distrubutions[i].keys(): # j表示得到该层的keys列表\n",
    "            if j=='b':\n",
    "                layer_parameter['b']=init_paramter_b(i)\n",
    "                continue\n",
    "            if j=='w':\n",
    "                layer_parameter['w']=init_paramter_w(i)\n",
    "                continue\n",
    "        parameter.append(layer_parameter)\n",
    "    return parameter"
   ]
  },
  {
   "cell_type": "code",
   "execution_count": 76,
   "id": "71732998",
   "metadata": {},
   "outputs": [],
   "source": [
    "# init_paramter_w(1).shape\n",
    "# init_paramter_b(0)\n",
    "parameters = init_paramters()"
   ]
  },
  {
   "cell_type": "code",
   "execution_count": 65,
   "id": "a9290f70",
   "metadata": {},
   "outputs": [],
   "source": [
    "def predict(img,parameters):\n",
    "    # predict 预测函数\n",
    "    l0_in=img+parameters[0]['b']\n",
    "    l0_out=activations[0](l0_in)\n",
    "    l1_in=np.dot(l0_out,parameters[1]['w'])+parameters[1]['b']\n",
    "    l1_out=activations[1](l1_in)\n",
    "    return l1_out"
   ]
  },
  {
   "cell_type": "code",
   "execution_count": 75,
   "id": "0f23eb4c",
   "metadata": {},
   "outputs": [
    {
     "name": "stdout",
     "output_type": "stream",
     "text": [
      "[1.59481184e-04 4.11480531e-02 8.07066720e+10 3.97096683e-05\n",
      " 1.32880533e-04 3.01712998e-10 1.20799139e-02 3.66603887e+14\n",
      " 3.84309717e+08 6.99546110e-07]\n"
     ]
    },
    {
     "data": {
      "text/plain": [
       "7"
      ]
     },
     "execution_count": 75,
     "metadata": {},
     "output_type": "execute_result"
    }
   ],
   "source": [
    "predict(np.random.rand(784),parameter).argmax()"
   ]
  },
  {
   "cell_type": "code",
   "execution_count": 12,
   "id": "da6d4ec3",
   "metadata": {},
   "outputs": [],
   "source": [
    "from pathlib import Path"
   ]
  },
  {
   "cell_type": "code",
   "execution_count": 13,
   "id": "94e4f37f",
   "metadata": {},
   "outputs": [],
   "source": [
    "dataset_path=Path(\"./MNIST\")\n",
    "train_img_path=dataset_path/'train-images-idx3-ubyte'/'train-images.idx3-ubyte'\n",
    "train_lab_path=dataset_path/'train-labels-idx1-ubyte'/'train-labels.idx1-ubyte'\n",
    "test_img_path=dataset_path/'t10k-images-idx3-ubyte'/'t10k-images.idx3-ubyte'\n",
    "test_lab_path=dataset_path/'t10k-labels-idx1-ubyte'/'t10k-labels.idx1-ubyte'"
   ]
  },
  {
   "cell_type": "code",
   "execution_count": 14,
   "id": "efcf92f9",
   "metadata": {},
   "outputs": [],
   "source": [
    "train_f=open(train_img_path,'rb')  #读出来的是字节"
   ]
  },
  {
   "cell_type": "code",
   "execution_count": 15,
   "id": "a747f9e7",
   "metadata": {},
   "outputs": [],
   "source": [
    "import struct   #将字节拼接成字"
   ]
  },
  {
   "cell_type": "code",
   "execution_count": 16,
   "id": "1f432b29",
   "metadata": {},
   "outputs": [
    {
     "data": {
      "text/plain": [
       "(2051, 60000, 28, 28)"
      ]
     },
     "execution_count": 16,
     "metadata": {},
     "output_type": "execute_result"
    }
   ],
   "source": [
    "struct.unpack('>4i',train_f.read(16))  #unpack用于读取数据，4i->4个整形字节，读16个"
   ]
  },
  {
   "cell_type": "code",
   "execution_count": 17,
   "id": "7e0a3a6a",
   "metadata": {},
   "outputs": [
    {
     "data": {
      "text/plain": [
       "array([[0, 0, 0, ..., 0, 0, 0],\n",
       "       [0, 0, 0, ..., 0, 0, 0],\n",
       "       [0, 0, 0, ..., 0, 0, 0],\n",
       "       ...,\n",
       "       [0, 0, 0, ..., 0, 0, 0],\n",
       "       [0, 0, 0, ..., 0, 0, 0],\n",
       "       [0, 0, 0, ..., 0, 0, 0]], dtype=uint8)"
      ]
     },
     "execution_count": 17,
     "metadata": {},
     "output_type": "execute_result"
    }
   ],
   "source": [
    "np.fromfile(train_f,dtype=np.uint8).reshape(-1,28*28)"
   ]
  },
  {
   "cell_type": "code",
   "execution_count": 32,
   "id": "843e128b",
   "metadata": {},
   "outputs": [],
   "source": [
    "train_num=50000\n",
    "valid_num=10000\n",
    "test_num=10000\n",
    "\n",
    "with open(train_img_path,'rb') as f:\n",
    "    struct.unpack('>4i',f.read(16))\n",
    "    temp_img=np.fromfile(f,dtype=np.uint8).reshape(-1,28*28)\n",
    "    train_img=temp_img[:train_num]\n",
    "    valid_img=temp_img[train_num:]\n",
    "    \n",
    "with open(test_img_path,'rb') as f:\n",
    "    struct.unpack('>4i',f.read(16))\n",
    "    test_img=np.fromfile(f,dtype=np.uint8).reshape(-1,28*28)\n",
    "    \n",
    "with open(train_lab_path,'rb') as f:\n",
    "    struct.unpack('>2i',f.read(8))\n",
    "    temp_lab=np.fromfile(f,dtype=np.uint8)\n",
    "    train_lab=temp_lab[:train_num]\n",
    "    valid_lab=temp_lab[train_num:]\n",
    "    \n",
    "with open(test_lab_path,'rb') as f:\n",
    "    struct.unpack('>2i',f.read(8))\n",
    "    test_lab=np.fromfile(f,dtype=np.uint8)"
   ]
  },
  {
   "cell_type": "code",
   "execution_count": 19,
   "id": "c275e91e",
   "metadata": {},
   "outputs": [
    {
     "data": {
      "text/plain": [
       "array([[0, 0, 0, ..., 0, 0, 0],\n",
       "       [0, 0, 0, ..., 0, 0, 0],\n",
       "       [0, 0, 0, ..., 0, 0, 0],\n",
       "       ...,\n",
       "       [0, 0, 0, ..., 0, 0, 0],\n",
       "       [0, 0, 0, ..., 0, 0, 0],\n",
       "       [0, 0, 0, ..., 0, 0, 0]], dtype=uint8)"
      ]
     },
     "execution_count": 19,
     "metadata": {},
     "output_type": "execute_result"
    }
   ],
   "source": [
    "test_img"
   ]
  },
  {
   "cell_type": "code",
   "execution_count": 20,
   "id": "d024de61",
   "metadata": {},
   "outputs": [],
   "source": [
    "train_lab_f=open(train_lab_path,'rb')"
   ]
  },
  {
   "cell_type": "code",
   "execution_count": 21,
   "id": "88761a44",
   "metadata": {
    "scrolled": true
   },
   "outputs": [
    {
     "data": {
      "text/plain": [
       "(2049, 60000)"
      ]
     },
     "execution_count": 21,
     "metadata": {},
     "output_type": "execute_result"
    }
   ],
   "source": [
    "struct.unpack('>2i',train_lab_f.read(8))"
   ]
  },
  {
   "cell_type": "code",
   "execution_count": 22,
   "id": "30916d0b",
   "metadata": {},
   "outputs": [],
   "source": [
    "import matplotlib.pyplot as plt"
   ]
  },
  {
   "cell_type": "code",
   "execution_count": 33,
   "id": "d0554ede",
   "metadata": {},
   "outputs": [],
   "source": [
    "def show_train_img_label(index):\n",
    "    img=train_img[index].reshape(28,28)\n",
    "    plt.imshow(img,cmap='gray')\n",
    "    print(\"label:{}\".format(train_lab[index]))\n",
    "    \n",
    "def show_test_img_label(index):\n",
    "    img=test_img[index].reshape(28,28)\n",
    "    plt.imshow(img,cmap='gray')\n",
    "    print(\"label:{}\".format(test_lab[index]))\n",
    "        \n",
    "def show_valid_img_label(index):\n",
    "    img=valid_img[index].reshape(28,28)\n",
    "    plt.imshow(img,cmap='gray')\n",
    "    print(\"label:{}\".format(valid_lab[index]))"
   ]
  },
  {
   "cell_type": "code",
   "execution_count": 34,
   "id": "d2f5dda2",
   "metadata": {},
   "outputs": [
    {
     "name": "stdout",
     "output_type": "stream",
     "text": [
      "label:2\n"
     ]
    },
    {
     "data": {
      "image/png": "[encoded data removed]",
      "text/plain": [
       "<Figure size 640x480 with 1 Axes>"
      ]
     },
     "metadata": {},
     "output_type": "display_data"
    }
   ],
   "source": [
    "show_train_img_label(np.random.randint(train_num))"
   ]
  },
  {
   "cell_type": "code",
   "execution_count": 35,
   "id": "244accd6",
   "metadata": {},
   "outputs": [
    {
     "name": "stdout",
     "output_type": "stream",
     "text": [
      "label:7\n"
     ]
    },
    {
     "data": {
      "image/png": "[encoded data removed]",
      "text/plain": [
       "<Figure size 640x480 with 1 Axes>"
      ]
     },
     "metadata": {},
     "output_type": "display_data"
    }
   ],
   "source": [
    "show_test_img_label(np.random.randint(valid_num))"
   ]
  },
  {
   "cell_type": "code",
   "execution_count": 36,
   "id": "0037815d",
   "metadata": {},
   "outputs": [
    {
     "name": "stdout",
     "output_type": "stream",
     "text": [
      "label:6\n"
     ]
    },
    {
     "data": {
      "image/png": "[encoded data removed]",
      "text/plain": [
       "<Figure size 640x480 with 1 Axes>"
      ]
     },
     "metadata": {},
     "output_type": "display_data"
    }
   ],
   "source": [
    "show_valid_img_label(np.random.randint(1000))"
   ]
  },
  {
   "cell_type": "code",
   "execution_count": 37,
   "id": "04a368df",
   "metadata": {},
   "outputs": [],
   "source": [
    "img=train_img[0].reshape(28,28)"
   ]
  },
  {
   "cell_type": "code",
   "execution_count": 38,
   "id": "35a4323e",
   "metadata": {},
   "outputs": [
    {
     "data": {
      "text/plain": [
       "<matplotlib.image.AxesImage at 0x7f6c8eb28b80>"
      ]
     },
     "execution_count": 38,
     "metadata": {},
     "output_type": "execute_result"
    },
    {
     "data": {
      "image/png": "[encoded data removed]",
      "text/plain": [
       "<Figure size 640x480 with 1 Axes>"
      ]
     },
     "metadata": {},
     "output_type": "display_data"
    }
   ],
   "source": [
    "plt.imshow(img,cmap='gray')"
   ]
  },
  {
   "cell_type": "code",
   "execution_count": 41,
   "id": "7298fd6d",
   "metadata": {},
   "outputs": [
    {
     "data": {
      "text/plain": [
       "array([[ 1,  2,  3,  4],\n",
       "       [ 2,  4,  6,  8],\n",
       "       [ 3,  6,  9, 12],\n",
       "       [ 4,  8, 12, 16]])"
      ]
     },
     "execution_count": 41,
     "metadata": {},
     "output_type": "execute_result"
    }
   ],
   "source": [
    "# np.diag([1,2,3,4]) # diag：形成一个对角矩阵\n",
    "np.outer([1,2,3,4],[1,2,3,4]) # outer:对矩阵进行外乘；第一行：1*（1,2,3,4）第二行：2*（1,2,3,4）......"
   ]
  },
  {
   "cell_type": "code",
   "execution_count": 42,
   "id": "06c947ed",
   "metadata": {},
   "outputs": [],
   "source": [
    "def d_softmax(data):\n",
    "    sm=softmax(data)\n",
    "    return np.diag(sm)-np.outer(sm,sm)"
   ]
  },
  {
   "cell_type": "code",
   "execution_count": 49,
   "id": "38f58ce8",
   "metadata": {},
   "outputs": [],
   "source": [
    "def d_tanh(data):\n",
    "    return np.diag(1/np.cosh(data)**2)"
   ]
  },
  {
   "cell_type": "code",
   "execution_count": 50,
   "id": "c948e576",
   "metadata": {},
   "outputs": [
    {
     "data": {
      "text/plain": [
       "array([[0.41997434, 0.        , 0.        , 0.        ],\n",
       "       [0.        , 0.07065082, 0.        , 0.        ],\n",
       "       [0.        , 0.        , 0.00986604, 0.        ],\n",
       "       [0.        , 0.        , 0.        , 0.00134095]])"
      ]
     },
     "execution_count": 50,
     "metadata": {},
     "output_type": "execute_result"
    }
   ],
   "source": [
    "# d_softmax(np.array([1,2,3,4]))\n",
    "d_tanh([1,2,3,4])"
   ]
  },
  {
   "cell_type": "code",
   "execution_count": 51,
   "id": "7f397e32",
   "metadata": {},
   "outputs": [],
   "source": [
    "differential={softmax:d_softmax,tanh:d_tanh}"
   ]
  },
  {
   "cell_type": "code",
   "execution_count": 57,
   "id": "249879c5",
   "metadata": {},
   "outputs": [
    {
     "name": "stdout",
     "output_type": "stream",
     "text": [
      "[-4.77397040e-06  1.69741283e-06  1.67342652e-06  1.40313188e-06]\n",
      "[ 1.90869609e-06 -4.73147027e-06  1.09285982e-06  1.72991242e-06]\n",
      "[ 1.21086481e-06  2.17659291e-06 -4.71552941e-06  1.32807058e-06]\n",
      "[ 1.88455083e-06  1.38901928e-06  1.21292223e-06 -4.48649318e-06]\n"
     ]
    }
   ],
   "source": [
    "# 验证公式(d_softmax,d_tanh)是否正确\n",
    "h=0.0001\n",
    "func=softmax\n",
    "input_len=4\n",
    "for i in range(input_len):\n",
    "    test_input=np.random.rand(input_len)\n",
    "    derivative=differential[func](test_input)\n",
    "    \n",
    "    value1=func(test_input)\n",
    "    test_input[i]+=h\n",
    "    value2=func(test_input)\n",
    "#     print((value2-value1)/h)\n",
    "#     print(derivative[i])\n",
    "    print(derivative[i]-(value2-value1)/h)"
   ]
  },
  {
   "cell_type": "code",
   "execution_count": 60,
   "id": "c6447e8a",
   "metadata": {},
   "outputs": [
    {
     "name": "stdout",
     "output_type": "stream",
     "text": [
      "[[1.44673047 0.         0.         0.        ]\n",
      " [0.67722046 0.         0.         0.        ]\n",
      " [0.67722046 0.         0.         0.        ]\n",
      " [0.67722046 0.         0.         0.        ]]\n",
      "[[0.         0.62885413 0.         0.        ]\n",
      " [0.         1.39506478 0.         0.        ]\n",
      " [0.         0.62885413 0.         0.        ]\n",
      " [0.         0.62885413 0.         0.        ]]\n",
      "[[0.         0.         0.78419623 0.        ]\n",
      " [0.         0.         0.78419623 0.        ]\n",
      " [0.         0.         1.51281564 0.        ]\n",
      " [0.         0.         0.78419623 0.        ]]\n",
      "[[0.         0.         0.         0.93516781]\n",
      " [0.         0.         0.         0.93516781]\n",
      " [0.         0.         0.         0.93516781]\n",
      " [0.         0.         0.         1.41147109]]\n"
     ]
    }
   ],
   "source": [
    "h=0.0001\n",
    "func=tanh\n",
    "input_len=4\n",
    "for i in range(input_len):\n",
    "    test_input=np.random.rand(input_len)\n",
    "    derivative=differential[func](test_input)\n",
    "    \n",
    "    value1=func(test_input)\n",
    "    test_input[i]+=h\n",
    "    value2=func(test_input)\n",
    "#     print((value2-value1)/h)\n",
    "#     print(derivative[i])\n",
    "    print(derivative[i]-(value2-value1)/h)"
   ]
  },
  {
   "cell_type": "code",
   "execution_count": 93,
   "id": "b750ad91",
   "metadata": {},
   "outputs": [],
   "source": [
    "onehot=np.identity(dimensions[-1])\n",
    "\n",
    "def sqr_loss(img,lab,parameters):\n",
    "    y_pred=predict(img,parameters)[-1]\n",
    "    y=onehot[lab]\n",
    "    diff=y-y_pred\n",
    "    return np.dot(diff,diff)"
   ]
  },
  {
   "cell_type": "code",
   "execution_count": 95,
   "id": "b56f1ad6",
   "metadata": {},
   "outputs": [
    {
     "data": {
      "text/plain": [
       "0.9999791879276191"
      ]
     },
     "execution_count": 95,
     "metadata": {},
     "output_type": "execute_result"
    }
   ],
   "source": [
    "sqr_loss(train_img[100],train_lab[100],parameters)"
   ]
  },
  {
   "cell_type": "code",
   "execution_count": 87,
   "id": "d09f6149",
   "metadata": {},
   "outputs": [],
   "source": [
    "def predict(img,parameters):\n",
    "    # predict 预测函数\n",
    "    l0_in=img+parameters[0]['b']\n",
    "    l0_out=activations[0](l0_in)\n",
    "    l1_in=np.dot(l0_out,parameters[1]['w'])+parameters[1]['b']\n",
    "    l1_out=activations[1](l1_in)\n",
    "    return l1_out"
   ]
  },
  {
   "cell_type": "code",
   "execution_count": 90,
   "id": "85eb65fd",
   "metadata": {},
   "outputs": [
    {
     "data": {
      "text/plain": [
       "array([9.87094618e-05, 8.42218702e-04, 1.26287768e-04, 2.12103733e-05,\n",
       "       1.65469665e-05, 1.16214769e-05, 2.79184547e-06, 8.38535994e-06,\n",
       "       2.33373079e-05, 2.02758335e-05])"
      ]
     },
     "execution_count": 90,
     "metadata": {},
     "output_type": "execute_result"
    }
   ],
   "source": [
    "predict(train_img[1],parameters)[-1]"
   ]
  },
  {
   "cell_type": "code",
   "execution_count": null,
   "id": "f753dd7e",
   "metadata": {},
   "outputs": [],
   "source": []
  }
 ],
 "metadata": {
  "kernelspec": {
   "display_name": "Python 3 (ipykernel)",
   "language": "python",
   "name": "python3"
  },
  "language_info": {
   "codemirror_mode": {
    "name": "ipython",
    "version": 3
   },
   "file_extension": ".py",
   "mimetype": "text/x-python",
   "name": "python",
   "nbconvert_exporter": "python",
   "pygments_lexer": "ipython3",
   "version": "3.10.6"
  }
 },
 "nbformat": 4,
 "nbformat_minor": 5
}
